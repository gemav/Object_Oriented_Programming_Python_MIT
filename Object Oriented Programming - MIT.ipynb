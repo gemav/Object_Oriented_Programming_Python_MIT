{
 "cells": [
  {
   "cell_type": "code",
   "execution_count": 3,
   "metadata": {},
   "outputs": [
    {
     "name": "stdout",
     "output_type": "stream",
     "text": [
      "5:30\n"
     ]
    }
   ],
   "source": [
    "class Clock(object):\n",
    "    def __init__(self, time):\n",
    "        self.time = time\n",
    "    def print_time(self):\n",
    "        time = '6:30'\n",
    "        print(self.time)\n",
    "        \n",
    "clock = Clock('5:30')\n",
    "clock.print_time()"
   ]
  },
  {
   "cell_type": "code",
   "execution_count": 4,
   "metadata": {},
   "outputs": [
    {
     "name": "stdout",
     "output_type": "stream",
     "text": [
      "10:30\n"
     ]
    }
   ],
   "source": [
    "class Clock(object):\n",
    "    def __init__(self, time):\n",
    "        self.time = time\n",
    "    def print_time(self, time):\n",
    "        print(time)\n",
    "        \n",
    "clock = Clock('5:30')\n",
    "clock.print_time('10:30')"
   ]
  },
  {
   "cell_type": "code",
   "execution_count": 7,
   "metadata": {},
   "outputs": [
    {
     "name": "stdout",
     "output_type": "stream",
     "text": [
      "10:30\n"
     ]
    }
   ],
   "source": [
    "class Clock(object):\n",
    "    def __init__(self, time):\n",
    "        self.time = time\n",
    "    def print_time(self):\n",
    "        print(self.time)\n",
    "        \n",
    "boston_clock = Clock('5:30')\n",
    "paris_clock = boston_clock\n",
    "paris_clock.time = '10:30'\n",
    "boston_clock.print_time()"
   ]
  },
  {
   "cell_type": "code",
   "execution_count": 8,
   "metadata": {},
   "outputs": [],
   "source": [
    "class Weird(object):\n",
    "    def __init__(self, x, y):\n",
    "        self.x = x\n",
    "        self.y = y\n",
    "    def getX(self):\n",
    "        return x\n",
    "    def getY(self):\n",
    "        return y\n",
    "    \n",
    "class Wild(object):\n",
    "    def __init__(self, x, y):\n",
    "        self.x = x\n",
    "        self.y = y\n",
    "    def getX(self):\n",
    "        return self.x\n",
    "    def getY(self):\n",
    "        return self.y"
   ]
  },
  {
   "cell_type": "code",
   "execution_count": 9,
   "metadata": {},
   "outputs": [],
   "source": [
    "X = 7\n",
    "Y = 8"
   ]
  },
  {
   "cell_type": "code",
   "execution_count": 16,
   "metadata": {},
   "outputs": [
    {
     "ename": "NameError",
     "evalue": "global name 'y' is not defined",
     "output_type": "error",
     "traceback": [
      "\u001b[0;31m---------------------------------------------------------------------------\u001b[0m",
      "\u001b[0;31mNameError\u001b[0m                                 Traceback (most recent call last)",
      "\u001b[0;32m<ipython-input-16-de2baac5122d>\u001b[0m in \u001b[0;36m<module>\u001b[0;34m()\u001b[0m\n\u001b[1;32m      1\u001b[0m \u001b[0mw1\u001b[0m \u001b[0;34m=\u001b[0m \u001b[0mWeird\u001b[0m\u001b[0;34m(\u001b[0m\u001b[0mX\u001b[0m\u001b[0;34m,\u001b[0m \u001b[0mY\u001b[0m\u001b[0;34m)\u001b[0m\u001b[0;34m\u001b[0m\u001b[0m\n\u001b[0;32m----> 2\u001b[0;31m \u001b[0;32mprint\u001b[0m \u001b[0mw1\u001b[0m\u001b[0;34m.\u001b[0m\u001b[0mgetY\u001b[0m\u001b[0;34m(\u001b[0m\u001b[0;34m)\u001b[0m\u001b[0;34m\u001b[0m\u001b[0m\n\u001b[0m",
      "\u001b[0;32m<ipython-input-8-01818161e87f>\u001b[0m in \u001b[0;36mgetY\u001b[0;34m(self)\u001b[0m\n\u001b[1;32m      6\u001b[0m         \u001b[0;32mreturn\u001b[0m \u001b[0mx\u001b[0m\u001b[0;34m\u001b[0m\u001b[0m\n\u001b[1;32m      7\u001b[0m     \u001b[0;32mdef\u001b[0m \u001b[0mgetY\u001b[0m\u001b[0;34m(\u001b[0m\u001b[0mself\u001b[0m\u001b[0;34m)\u001b[0m\u001b[0;34m:\u001b[0m\u001b[0;34m\u001b[0m\u001b[0m\n\u001b[0;32m----> 8\u001b[0;31m         \u001b[0;32mreturn\u001b[0m \u001b[0my\u001b[0m\u001b[0;34m\u001b[0m\u001b[0m\n\u001b[0m\u001b[1;32m      9\u001b[0m \u001b[0;34m\u001b[0m\u001b[0m\n\u001b[1;32m     10\u001b[0m \u001b[0;32mclass\u001b[0m \u001b[0mWild\u001b[0m\u001b[0;34m(\u001b[0m\u001b[0mobject\u001b[0m\u001b[0;34m)\u001b[0m\u001b[0;34m:\u001b[0m\u001b[0;34m\u001b[0m\u001b[0m\n",
      "\u001b[0;31mNameError\u001b[0m: global name 'y' is not defined"
     ]
    }
   ],
   "source": [
    "w1 = Weird(X, Y)\n",
    "print w1.getY()"
   ]
  },
  {
   "cell_type": "code",
   "execution_count": 18,
   "metadata": {},
   "outputs": [
    {
     "name": "stdout",
     "output_type": "stream",
     "text": [
      "8\n"
     ]
    }
   ],
   "source": [
    "w2 = Wild(X, Y)\n",
    "print (w2.getY())"
   ]
  },
  {
   "cell_type": "code",
   "execution_count": 19,
   "metadata": {},
   "outputs": [
    {
     "name": "stdout",
     "output_type": "stream",
     "text": [
      "17\n"
     ]
    }
   ],
   "source": [
    "w3 = Wild(17, 18)\n",
    "print(w3.getX())"
   ]
  },
  {
   "cell_type": "code",
   "execution_count": 22,
   "metadata": {},
   "outputs": [
    {
     "name": "stdout",
     "output_type": "stream",
     "text": [
      "7\n"
     ]
    }
   ],
   "source": [
    "w4 = Wild(X, 18)\n",
    "print (w4.getX())"
   ]
  },
  {
   "cell_type": "code",
   "execution_count": 23,
   "metadata": {},
   "outputs": [
    {
     "name": "stdout",
     "output_type": "stream",
     "text": [
      "31\n"
     ]
    }
   ],
   "source": [
    "X = w4.getX() + w3.getX() + w2.getX()\n",
    "print X"
   ]
  },
  {
   "cell_type": "code",
   "execution_count": 24,
   "metadata": {},
   "outputs": [
    {
     "name": "stdout",
     "output_type": "stream",
     "text": [
      "7\n"
     ]
    }
   ],
   "source": [
    "print (w4.getX())"
   ]
  },
  {
   "cell_type": "code",
   "execution_count": 25,
   "metadata": {},
   "outputs": [
    {
     "name": "stdout",
     "output_type": "stream",
     "text": [
      "44\n"
     ]
    }
   ],
   "source": [
    "Y = w4.getY() + w3.getY()\n",
    "Y = Y + w2.getY()\n",
    "print (Y)"
   ]
  },
  {
   "cell_type": "code",
   "execution_count": null,
   "metadata": {},
   "outputs": [],
   "source": [
    "class Coordinate(object):\n",
    "    def __init__(self, x, y):\n",
    "        self.x = x\n",
    "        self.y = y\n",
    "    \n",
    "    def getX(self):\n",
    "        '''Getter method for a Coordinate object x coordinate.\n",
    "        Getter methods are better practive than just accessing an attribute directly'''\n",
    "        return self.x\n",
    "    \n",
    "    def getY(self):\n",
    "        '''Getter method for a Coordinate object y coordinate'''\n",
    "        return self.y\n",
    "    \n",
    "    def __eq__(self, other):\n",
    "        '''Return True if coordinates refer to same point in the plane (have same x and y coordinate)\n",
    "        Make sure other is of the same type. Then test if coordinates are equal'''\n",
    "        assert type(other) == type(self)\n",
    "        return self.getX() == other.getX() and self.getY() == other.getY()\n",
    "    \n",
    "    def __repr__(self):\n",
    "        '''Return a string that looks like a valid Python expression that could be used to\n",
    "        recreate an object with the same value, this is, eval(repr(c)) == c given \n",
    "        the definition of __eq__ from part above'''\n",
    "        return 'Coordinate(%d, %d)' % (self.x, self.y)\n",
    "    \n",
    "    def __str__(self):\n",
    "        return '<' + str(self.getX()) + ',' + str(self.getY()) + '>'"
   ]
  },
  {
   "cell_type": "code",
   "execution_count": 28,
   "metadata": {},
   "outputs": [
    {
     "data": {
      "text/plain": [
       "False"
      ]
     },
     "execution_count": 28,
     "metadata": {},
     "output_type": "execute_result"
    }
   ],
   "source": [
    "c = 3\n",
    "lala = 5\n",
    "c == lala"
   ]
  },
  {
   "cell_type": "code",
   "execution_count": 44,
   "metadata": {},
   "outputs": [],
   "source": [
    "class intSet(object):\n",
    "    \"\"\"An intSet is a set of integers\n",
    "    The value is represented by a list of ints, self.vals.\n",
    "    Each int in the set occurs in self.vals exactly once.\"\"\"\n",
    "\n",
    "    def __init__(self):\n",
    "        \"\"\"Create an empty set of integers\"\"\"\n",
    "        self.vals = []\n",
    "\n",
    "    def insert(self, e):\n",
    "        \"\"\"Assumes e is an integer and inserts e into self\"\"\" \n",
    "        if not e in self.vals:\n",
    "            self.vals.append(e)\n",
    "\n",
    "    def member(self, e):\n",
    "        \"\"\"Assumes e is an integer\n",
    "           Returns True if e is in self, and False otherwise\"\"\"\n",
    "        return e in self.vals\n",
    "\n",
    "    def remove(self, e):\n",
    "        \"\"\"Assumes e is an integer and removes e from self\n",
    "           Raises ValueError if e is not in self\"\"\"\n",
    "        try:\n",
    "            self.vals.remove(e)\n",
    "        except:\n",
    "            raise ValueError(str(e) + ' not found')\n",
    "            \n",
    "    def intersect(self, other):\n",
    "        '''returns a new intSet containing elements that appear in both sets.\n",
    "        Assumes other is an intSet. Returns a new intSet containing elements that \n",
    "        appear in both sets'''\n",
    "        # Initialize a new intSet\n",
    "        commonValueSet = intSet()\n",
    "        # Go through the values in this set\n",
    "        for val in self.vals:\n",
    "            if other.member(val):\n",
    "                commonValueSet.insert(val)\n",
    "        return commonValueSet\n",
    "        \n",
    "    def __len__(self):\n",
    "        '''returns the number of elements in s'''\n",
    "        return len(self.vals)\n",
    "\n",
    "    def __str__(self):\n",
    "        \"\"\"Returns a string representation of self\"\"\"\n",
    "        self.vals.sort()\n",
    "        return '{' + ','.join([str(e) for e in self.vals]) + '}'"
   ]
  },
  {
   "cell_type": "code",
   "execution_count": 47,
   "metadata": {},
   "outputs": [],
   "source": [
    "setA = {-19, -13, -8, -4, 6, 8, 9}"
   ]
  },
  {
   "cell_type": "code",
   "execution_count": 48,
   "metadata": {},
   "outputs": [
    {
     "ename": "AttributeError",
     "evalue": "'set' object has no attribute 'insert'",
     "output_type": "error",
     "traceback": [
      "\u001b[0;31m---------------------------------------------------------------------------\u001b[0m",
      "\u001b[0;31mAttributeError\u001b[0m                            Traceback (most recent call last)",
      "\u001b[0;32m<ipython-input-48-9447a9dcdc42>\u001b[0m in \u001b[0;36m<module>\u001b[0;34m()\u001b[0m\n\u001b[1;32m      1\u001b[0m \u001b[0me\u001b[0m \u001b[0;34m=\u001b[0m \u001b[0;36m10\u001b[0m\u001b[0;34m\u001b[0m\u001b[0m\n\u001b[0;32m----> 2\u001b[0;31m \u001b[0msetA\u001b[0m\u001b[0;34m.\u001b[0m\u001b[0minsert\u001b[0m\u001b[0;34m(\u001b[0m\u001b[0me\u001b[0m\u001b[0;34m)\u001b[0m\u001b[0;34m\u001b[0m\u001b[0m\n\u001b[0m\u001b[1;32m      3\u001b[0m \u001b[0;34m\u001b[0m\u001b[0m\n\u001b[1;32m      4\u001b[0m \u001b[0msetA\u001b[0m\u001b[0;34m\u001b[0m\u001b[0m\n",
      "\u001b[0;31mAttributeError\u001b[0m: 'set' object has no attribute 'insert'"
     ]
    }
   ],
   "source": [
    "e = 10\n",
    "setA.insert(e)\n",
    "\n",
    "setA"
   ]
  },
  {
   "cell_type": "code",
   "execution_count": 62,
   "metadata": {},
   "outputs": [],
   "source": [
    "class Animal (object):\n",
    "    def __init__(self, age):\n",
    "        self.years = age\n",
    "        # create a binding inside of every instance but I don't have anything assigned yet\n",
    "        self.name = None\n",
    "     # Getters\n",
    "    def get_age(self):\n",
    "        return self.years\n",
    "    def get_name(self):\n",
    "        return self.name\n",
    "    \n",
    "    # setters: they can change the attributes\n",
    "    def set_age(self, newage):\n",
    "        self.age = newage\n",
    "    def set_name(self, newname = ''):\n",
    "        self.name = newname\n",
    "    def __str__(self):\n",
    "        return 'animal:' + str(self.name) + ':' + str(self.years)"
   ]
  },
  {
   "cell_type": "code",
   "execution_count": 63,
   "metadata": {},
   "outputs": [
    {
     "name": "stdout",
     "output_type": "stream",
     "text": [
      "animal:None:3\n"
     ]
    }
   ],
   "source": [
    "myanimal = Animal(3)\n",
    "print (myanimal)"
   ]
  },
  {
   "cell_type": "code",
   "execution_count": 64,
   "metadata": {},
   "outputs": [
    {
     "name": "stdout",
     "output_type": "stream",
     "text": [
      "animal:foobar:3\n"
     ]
    }
   ],
   "source": [
    "myanimal.set_name('foobar')\n",
    "print myanimal"
   ]
  },
  {
   "cell_type": "code",
   "execution_count": 65,
   "metadata": {},
   "outputs": [
    {
     "data": {
      "text/plain": [
       "3"
      ]
     },
     "execution_count": 65,
     "metadata": {},
     "output_type": "execute_result"
    }
   ],
   "source": [
    "# Outside the class, use getters and setters instead.\n",
    "# DO THIS:\n",
    "myanimal.get_age()"
   ]
  },
  {
   "cell_type": "code",
   "execution_count": 88,
   "metadata": {},
   "outputs": [],
   "source": [
    "# Hierarchies\n",
    "\n",
    "# we can have different classes, and we can have some underlying characteristics that brings\n",
    "# classes together\n",
    "\n",
    "class Cat(Animal):\n",
    "    # if __init__ missing, it will inherit it\n",
    "    def speak(self):\n",
    "        print ('meow')\n",
    "    def __str__(self):\n",
    "        return 'cat:'+str(self.name)+':'+str(self.age)\n",
    "    \n",
    "class Rabbit(Animal):\n",
    "    def speak(self):\n",
    "        print ('meep')\n",
    "    def __str__(self):\n",
    "        return 'rabbit:'+str(self.name)+':'+str(self.age)\n",
    "    \n",
    "class Person(Animal):\n",
    "    def __init__(self, name, age):\n",
    "        # using underlying Animal constructor and method 'set_name'\n",
    "        Animal.__init__(self, age)\n",
    "        Animal.set_name(self, name)\n",
    "        self.friends = []\n",
    "    def get_friends(self):\n",
    "        return self.friends\n",
    "    def add_friend(self, fname):\n",
    "        if fname not in self.friends:\n",
    "            self.friends.append(fname)\n",
    "    def speak(self):\n",
    "        print 'hello'\n",
    "    def age_diff(self, other):\n",
    "        diff = self.get_age() - other.get_age()\n",
    "        if self.years > other.years:\n",
    "            print(self.name, 'is', diff, 'years older than', other.name)\n",
    "        else:\n",
    "            print (self.name, 'is', -diff, 'years younger than', other.name)\n",
    "    def __str__(self):\n",
    "        return 'person:'+str(self.name)+':'+str(self.years)"
   ]
  },
  {
   "cell_type": "code",
   "execution_count": 68,
   "metadata": {},
   "outputs": [],
   "source": [
    "jelly = Cat(1)\n",
    "jelly.get_name()"
   ]
  },
  {
   "cell_type": "code",
   "execution_count": 69,
   "metadata": {},
   "outputs": [
    {
     "data": {
      "text/plain": [
       "'JellyBelly'"
      ]
     },
     "execution_count": 69,
     "metadata": {},
     "output_type": "execute_result"
    }
   ],
   "source": [
    "jelly.set_name('JellyBelly')\n",
    "jelly.get_name()"
   ]
  },
  {
   "cell_type": "code",
   "execution_count": 71,
   "metadata": {},
   "outputs": [
    {
     "name": "stdout",
     "output_type": "stream",
     "text": [
      "animal:JellyBelly:1\n"
     ]
    }
   ],
   "source": [
    "print(Animal.__str__(jelly))"
   ]
  },
  {
   "cell_type": "code",
   "execution_count": 72,
   "metadata": {},
   "outputs": [
    {
     "name": "stdout",
     "output_type": "stream",
     "text": [
      "animal:None:1\n"
     ]
    }
   ],
   "source": [
    "blob = Animal(1)\n",
    "print (blob)"
   ]
  },
  {
   "cell_type": "code",
   "execution_count": 73,
   "metadata": {},
   "outputs": [
    {
     "name": "stdout",
     "output_type": "stream",
     "text": [
      "animal::1\n"
     ]
    }
   ],
   "source": [
    "blob.set_name()\n",
    "print blob"
   ]
  },
  {
   "cell_type": "code",
   "execution_count": 75,
   "metadata": {},
   "outputs": [],
   "source": [
    "# new instance of the type Rabbit\n",
    "peter = Rabbit(5)"
   ]
  },
  {
   "cell_type": "code",
   "execution_count": 77,
   "metadata": {},
   "outputs": [
    {
     "name": "stdout",
     "output_type": "stream",
     "text": [
      "meep\n"
     ]
    }
   ],
   "source": [
    "peter.speak()"
   ]
  },
  {
   "cell_type": "code",
   "execution_count": 78,
   "metadata": {},
   "outputs": [
    {
     "ename": "AttributeError",
     "evalue": "'Animal' object has no attribute 'speak'",
     "output_type": "error",
     "traceback": [
      "\u001b[0;31m---------------------------------------------------------------------------\u001b[0m",
      "\u001b[0;31mAttributeError\u001b[0m                            Traceback (most recent call last)",
      "\u001b[0;32m<ipython-input-78-16cf53738ad9>\u001b[0m in \u001b[0;36m<module>\u001b[0;34m()\u001b[0m\n\u001b[0;32m----> 1\u001b[0;31m \u001b[0mblob\u001b[0m\u001b[0;34m.\u001b[0m\u001b[0mspeak\u001b[0m\u001b[0;34m(\u001b[0m\u001b[0;34m)\u001b[0m\u001b[0;34m\u001b[0m\u001b[0m\n\u001b[0m",
      "\u001b[0;31mAttributeError\u001b[0m: 'Animal' object has no attribute 'speak'"
     ]
    }
   ],
   "source": [
    "blob.speak()"
   ]
  },
  {
   "cell_type": "code",
   "execution_count": 79,
   "metadata": {},
   "outputs": [],
   "source": [
    "# I can inherit in the higher hierarchy, but it is not there, they it can't do it"
   ]
  },
  {
   "cell_type": "code",
   "execution_count": 82,
   "metadata": {},
   "outputs": [
    {
     "name": "stdout",
     "output_type": "stream",
     "text": [
      "hello\n"
     ]
    }
   ],
   "source": [
    "eric = Person('eric', 45)\n",
    "john = Person('john', 55)\n",
    "eric.speak()"
   ]
  },
  {
   "cell_type": "code",
   "execution_count": 89,
   "metadata": {
    "scrolled": false
   },
   "outputs": [
    {
     "ename": "AttributeError",
     "evalue": "'Person' object has no attribute 'age'",
     "output_type": "error",
     "traceback": [
      "\u001b[0;31m---------------------------------------------------------------------------\u001b[0m",
      "\u001b[0;31mAttributeError\u001b[0m                            Traceback (most recent call last)",
      "\u001b[0;32m<ipython-input-89-894f68bbdbfb>\u001b[0m in \u001b[0;36m<module>\u001b[0;34m()\u001b[0m\n\u001b[0;32m----> 1\u001b[0;31m \u001b[0meric\u001b[0m\u001b[0;34m.\u001b[0m\u001b[0mage_diff\u001b[0m\u001b[0;34m(\u001b[0m\u001b[0mjohn\u001b[0m\u001b[0;34m)\u001b[0m\u001b[0;34m\u001b[0m\u001b[0m\n\u001b[0m",
      "\u001b[0;32m<ipython-input-81-7c263272ac88>\u001b[0m in \u001b[0;36mage_diff\u001b[0;34m(self, other)\u001b[0m\n\u001b[1;32m     32\u001b[0m     \u001b[0;32mdef\u001b[0m \u001b[0mage_diff\u001b[0m\u001b[0;34m(\u001b[0m\u001b[0mself\u001b[0m\u001b[0;34m,\u001b[0m \u001b[0mother\u001b[0m\u001b[0;34m)\u001b[0m\u001b[0;34m:\u001b[0m\u001b[0;34m\u001b[0m\u001b[0m\n\u001b[1;32m     33\u001b[0m         \u001b[0mdiff\u001b[0m \u001b[0;34m=\u001b[0m \u001b[0mself\u001b[0m\u001b[0;34m.\u001b[0m\u001b[0mget_age\u001b[0m\u001b[0;34m(\u001b[0m\u001b[0;34m)\u001b[0m \u001b[0;34m-\u001b[0m \u001b[0mother\u001b[0m\u001b[0;34m.\u001b[0m\u001b[0mget_age\u001b[0m\u001b[0;34m(\u001b[0m\u001b[0;34m)\u001b[0m\u001b[0;34m\u001b[0m\u001b[0m\n\u001b[0;32m---> 34\u001b[0;31m         \u001b[0;32mif\u001b[0m \u001b[0mself\u001b[0m\u001b[0;34m.\u001b[0m\u001b[0mage\u001b[0m \u001b[0;34m>\u001b[0m \u001b[0mother\u001b[0m\u001b[0;34m.\u001b[0m\u001b[0mage\u001b[0m\u001b[0;34m:\u001b[0m\u001b[0;34m\u001b[0m\u001b[0m\n\u001b[0m\u001b[1;32m     35\u001b[0m             \u001b[0;32mprint\u001b[0m\u001b[0;34m(\u001b[0m\u001b[0mself\u001b[0m\u001b[0;34m.\u001b[0m\u001b[0mname\u001b[0m\u001b[0;34m,\u001b[0m \u001b[0;34m'is'\u001b[0m\u001b[0;34m,\u001b[0m \u001b[0mdiff\u001b[0m\u001b[0;34m,\u001b[0m \u001b[0;34m'years older than'\u001b[0m\u001b[0;34m,\u001b[0m \u001b[0mother\u001b[0m\u001b[0;34m.\u001b[0m\u001b[0mname\u001b[0m\u001b[0;34m)\u001b[0m\u001b[0;34m\u001b[0m\u001b[0m\n\u001b[1;32m     36\u001b[0m         \u001b[0;32melse\u001b[0m\u001b[0;34m:\u001b[0m\u001b[0;34m\u001b[0m\u001b[0m\n",
      "\u001b[0;31mAttributeError\u001b[0m: 'Person' object has no attribute 'age'"
     ]
    }
   ],
   "source": [
    "eric.age_diff(john)"
   ]
  },
  {
   "cell_type": "code",
   "execution_count": 90,
   "metadata": {},
   "outputs": [
    {
     "ename": "TypeError",
     "evalue": "unbound method age_diff() must be called with Person instance as first argument (got Person instance instead)",
     "output_type": "error",
     "traceback": [
      "\u001b[0;31m---------------------------------------------------------------------------\u001b[0m",
      "\u001b[0;31mTypeError\u001b[0m                                 Traceback (most recent call last)",
      "\u001b[0;32m<ipython-input-90-0e1c21811e5a>\u001b[0m in \u001b[0;36m<module>\u001b[0;34m()\u001b[0m\n\u001b[0;32m----> 1\u001b[0;31m \u001b[0mPerson\u001b[0m\u001b[0;34m.\u001b[0m\u001b[0mage_diff\u001b[0m\u001b[0;34m(\u001b[0m\u001b[0mjohn\u001b[0m\u001b[0;34m,\u001b[0m \u001b[0meric\u001b[0m\u001b[0;34m)\u001b[0m\u001b[0;34m\u001b[0m\u001b[0m\n\u001b[0m",
      "\u001b[0;31mTypeError\u001b[0m: unbound method age_diff() must be called with Person instance as first argument (got Person instance instead)"
     ]
    }
   ],
   "source": [
    "Person.age_diff(john, eric)"
   ]
  },
  {
   "cell_type": "code",
   "execution_count": 96,
   "metadata": {},
   "outputs": [
    {
     "name": "stdout",
     "output_type": "stream",
     "text": [
      "Accio\n",
      "Summoning Charm Accio\n",
      "No description\n",
      "Confundus Charm Confundo\n",
      "Causes the victim to become confused and befuddled.\n"
     ]
    }
   ],
   "source": [
    "class Spell(object):\n",
    "    def __init__(self, incantation, name):\n",
    "        self.name = name\n",
    "        self.incantation = incantation\n",
    "\n",
    "    def __str__(self):\n",
    "        return self.name + ' ' + self.incantation + '\\n' + self.getDescription()\n",
    "              \n",
    "    def getDescription(self):\n",
    "        return 'No description'\n",
    "    \n",
    "    def execute(self):\n",
    "        print(self.incantation)\n",
    "\n",
    "\n",
    "class Accio(Spell):\n",
    "    def __init__(self):\n",
    "        Spell.__init__(self, 'Accio', 'Summoning Charm')\n",
    "\n",
    "class Confundo(Spell):\n",
    "    def __init__(self):\n",
    "        Spell.__init__(self, 'Confundo', 'Confundus Charm')\n",
    "\n",
    "    def getDescription(self):\n",
    "        return 'Causes the victim to become confused and befuddled.'\n",
    "\n",
    "def studySpell(spell):\n",
    "    print(spell)\n",
    "    \n",
    "spell = Accio()\n",
    "spell.execute()\n",
    "studySpell(spell)\n",
    "studySpell(Confundo())"
   ]
  },
  {
   "cell_type": "code",
   "execution_count": 97,
   "metadata": {},
   "outputs": [],
   "source": [
    "class A(object):\n",
    "    def __init__(self):\n",
    "        self.a = 1\n",
    "    def x(self):\n",
    "        print(\"A.x\")\n",
    "    def y(self):\n",
    "        print(\"A.y\")\n",
    "    def z(self):\n",
    "        print(\"A.z\")\n",
    "\n",
    "class B(A):\n",
    "    def __init__(self):\n",
    "        A.__init__(self)\n",
    "        self.a = 2\n",
    "        self.b = 3\n",
    "    def y(self):\n",
    "        print(\"B.y\")\n",
    "    def z(self):\n",
    "        print(\"B.z\")\n",
    "\n",
    "class C(object):\n",
    "    def __init__(self):\n",
    "        self.a = 4\n",
    "        self.c = 5\n",
    "    def y(self):\n",
    "        print(\"C.y\")\n",
    "    def z(self):\n",
    "        print(\"C.z\")\n",
    "\n",
    "class D(C, B):\n",
    "    def __init__(self):\n",
    "        C.__init__(self)\n",
    "        B.__init__(self)\n",
    "        self.d = 6\n",
    "    def z(self):\n",
    "        print(\"D.z\")"
   ]
  },
  {
   "cell_type": "code",
   "execution_count": 98,
   "metadata": {},
   "outputs": [],
   "source": [
    "obj = D()"
   ]
  },
  {
   "cell_type": "code",
   "execution_count": 99,
   "metadata": {},
   "outputs": [
    {
     "name": "stdout",
     "output_type": "stream",
     "text": [
      "2\n"
     ]
    }
   ],
   "source": [
    "print(obj.a)"
   ]
  },
  {
   "cell_type": "code",
   "execution_count": 100,
   "metadata": {},
   "outputs": [
    {
     "name": "stdout",
     "output_type": "stream",
     "text": [
      "3\n",
      "5\n",
      "6\n"
     ]
    }
   ],
   "source": [
    "print(obj.b)\n",
    "print(obj.c)\n",
    "print(obj.d)"
   ]
  },
  {
   "cell_type": "code",
   "execution_count": 101,
   "metadata": {},
   "outputs": [
    {
     "name": "stdout",
     "output_type": "stream",
     "text": [
      "A.x\n"
     ]
    }
   ],
   "source": [
    "obj.x()"
   ]
  },
  {
   "cell_type": "code",
   "execution_count": 102,
   "metadata": {},
   "outputs": [
    {
     "name": "stdout",
     "output_type": "stream",
     "text": [
      "C.y\n"
     ]
    }
   ],
   "source": [
    "obj.y()"
   ]
  },
  {
   "cell_type": "code",
   "execution_count": 103,
   "metadata": {},
   "outputs": [
    {
     "name": "stdout",
     "output_type": "stream",
     "text": [
      "D.z\n"
     ]
    }
   ],
   "source": [
    "obj.z()"
   ]
  },
  {
   "cell_type": "markdown",
   "metadata": {},
   "source": [
    "<br>\n",
    "## OOP: An Example"
   ]
  },
  {
   "cell_type": "code",
   "execution_count": 107,
   "metadata": {},
   "outputs": [],
   "source": [
    "import datetime\n",
    "\n",
    "class Person (object):\n",
    "    def __init__(self, name):\n",
    "        '''create a person called name. Using built in method split and\n",
    "        extract last element of the string'''\n",
    "        self.name = name\n",
    "        self.birthday = None\n",
    "        self.lastName = name.split(' ')[-1]\n",
    "        \n",
    "    def getLastName(self):\n",
    "        '''return selfs last name'''\n",
    "        return self.lastName\n",
    "    \n",
    "    def setBirthday(self, month, day, year):\n",
    "        '''sets selfs birthday to birthDate'''\n",
    "        self.birthday = datetime.date(year, month, day)\n",
    "        \n",
    "    def getAge(self):\n",
    "        '''returns selfs current age in days'''\n",
    "        if self.birthday == None:\n",
    "            raise ValueError\n",
    "        return (datetime.date.today() - self.birthday).days\n",
    "    \n",
    "    def __lt__(self, other):\n",
    "        '''return True if selfs name is lexicographically \n",
    "        less than others name, and False otherwise'''\n",
    "        if self.lastName == other.lastName:\n",
    "            return self.name < other.name\n",
    "        return self.lastName < other.lastName\n",
    "    \n",
    "    def __str__(self):\n",
    "        '''return selfs name'''\n",
    "        return self.name"
   ]
  },
  {
   "cell_type": "code",
   "execution_count": 105,
   "metadata": {},
   "outputs": [],
   "source": [
    "p1 = Person('Mark Zuckerberg')\n",
    "p1.setBirthday(5, 14, 84)\n",
    "\n",
    "p2 = Person('Drew Houston')\n",
    "p2.setBirthday(3, 4, 83)\n",
    "\n",
    "p3 = Person('Bill Gates')\n",
    "p3.setBirthday(10, 28, 55)\n",
    "\n",
    "p4 = Person('Andrew Gates')\n",
    "\n",
    "p5 = Person('Steve Wozniak')\n",
    "\n",
    "personList = [p1, p2, p3, p4, p5]"
   ]
  },
  {
   "cell_type": "code",
   "execution_count": 106,
   "metadata": {},
   "outputs": [
    {
     "name": "stdout",
     "output_type": "stream",
     "text": [
      "Mark Zuckerberg\n"
     ]
    }
   ],
   "source": [
    "print(p1)"
   ]
  },
  {
   "cell_type": "code",
   "execution_count": 108,
   "metadata": {},
   "outputs": [
    {
     "name": "stdout",
     "output_type": "stream",
     "text": [
      "Mark Zuckerberg\n",
      "Drew Houston\n",
      "Bill Gates\n",
      "Andrew Gates\n",
      "Steve Wozniak\n"
     ]
    }
   ],
   "source": [
    "for e in personList:\n",
    "    print (e)"
   ]
  },
  {
   "cell_type": "code",
   "execution_count": 109,
   "metadata": {},
   "outputs": [],
   "source": [
    "#using built-in method .sort()\n",
    "personList.sort()"
   ]
  },
  {
   "cell_type": "code",
   "execution_count": 110,
   "metadata": {},
   "outputs": [
    {
     "name": "stdout",
     "output_type": "stream",
     "text": [
      "()\n"
     ]
    }
   ],
   "source": [
    "print()"
   ]
  },
  {
   "cell_type": "code",
   "execution_count": 111,
   "metadata": {},
   "outputs": [
    {
     "name": "stdout",
     "output_type": "stream",
     "text": [
      "Bill Gates\n",
      "Andrew Gates\n",
      "Steve Wozniak\n",
      "Drew Houston\n",
      "Mark Zuckerberg\n"
     ]
    }
   ],
   "source": [
    "for e in personList:\n",
    "    print(e)"
   ]
  },
  {
   "cell_type": "code",
   "execution_count": 151,
   "metadata": {},
   "outputs": [],
   "source": [
    "# Build on top of this structure\n",
    "\n",
    "class MITPerson(Person):\n",
    "    # data object that belongs to the class\n",
    "    nextIdNum = 0 # next ID number to assign\n",
    "    \n",
    "    def __init__(self, name):\n",
    "        Person.__init__(self, name) # initialize Person attributes using Person class that is underlying\n",
    "        self.idNum = MITPerson.nextIdNum # MITPerson attribute: unique ID that I assign\n",
    "        MITPerson.nextIdNum += 1 # increment global data attribute by 1\n",
    "        \n",
    "    def getIdNum(self):\n",
    "        return self.idNum\n",
    "    \n",
    "    # sorting MIT people uses their ID number, not name!\n",
    "    # using 'less than' method\n",
    "    def __lt__(self,other):\n",
    "        return self.idNum < other.idNum # sorting by comparing ID numbers\n",
    "    \n",
    "    def speak(self, utterance):\n",
    "        #return (self.getLastName() + ' says: ' + utterance)\n",
    "        \n",
    "        # see how changing this changes all the speak methods that inherit from MITPerson class\n",
    "        return (self.name + ' says: ' + utterance)"
   ]
  },
  {
   "cell_type": "code",
   "execution_count": 152,
   "metadata": {},
   "outputs": [],
   "source": [
    "m3 = MITPerson('Mark Zuckerberg')\n",
    "Person.setBirthday(m3, 5, 14, 84)\n",
    "\n",
    "m2 = MITPerson('Drew Houston')\n",
    "Person.setBirthday(m2, 3, 4, 83)\n",
    "\n",
    "m1 = MITPerson('Bill Gates')\n",
    "Person.setBirthday(m1, 10, 28, 55)\n",
    "\n",
    "MITPersonList = [m1, m2, m3]"
   ]
  },
  {
   "cell_type": "code",
   "execution_count": 153,
   "metadata": {},
   "outputs": [],
   "source": [
    "p1 = MITPerson('Eric')\n",
    "p2 = MITPerson('John')\n",
    "p3 = MITPerson('John')\n",
    "p4 = Person('John') # not an MIT person. Important when comparing to sort"
   ]
  },
  {
   "cell_type": "code",
   "execution_count": 154,
   "metadata": {},
   "outputs": [
    {
     "name": "stdout",
     "output_type": "stream",
     "text": [
      "Bill Gates\n"
     ]
    }
   ],
   "source": [
    "print (m1)"
   ]
  },
  {
   "cell_type": "code",
   "execution_count": 164,
   "metadata": {},
   "outputs": [],
   "source": [
    "# Start a little representation of MIT People. We can look at variations on how we inherit methods\n",
    "\n",
    "# by adding this new class, inheriting from MITPerson, makes the code clean\n",
    "# because I just need to change the MITPerson by Student in the children classes\n",
    "# and there are not methods associated with it\n",
    "\n",
    "class Student(MITPerson):\n",
    "    pass # there is no expression associated with that\n",
    "\n",
    "\n",
    "class UG(Student):\n",
    "    '''inherits from MITPerson, which inherits from Person class'''\n",
    "    def __init__(self, name, classYear):\n",
    "        MITPerson.__init__(self, name)\n",
    "        self.year = classYear # binding year\n",
    "\n",
    "    def getClass(self):\n",
    "        return self.year\n",
    "    \n",
    "    def speak(self, utterance):\n",
    "        # using the MITPerson method (and it is using self as argument) \n",
    "        # but modifying it a bit when undergrads are talking\n",
    "        #return MITPerson.speak(self, 'Dude, ' + utterance)\n",
    "        return MITPerson.speak(self, ' Yo Bro, ' + utterance)\n",
    "\n",
    "\n",
    "class Grad(Student):\n",
    "    pass\n",
    "\n",
    "class TransferStudent(Student):\n",
    "    pass\n",
    "\n",
    "\n",
    "def isStudent(obj):\n",
    "    return isinstance(obj,UG) or isinstance(obj,Grad)"
   ]
  },
  {
   "cell_type": "code",
   "execution_count": 165,
   "metadata": {},
   "outputs": [],
   "source": [
    "s1 = UG('Matt Damon', 2017)\n",
    "s2 = UG('Ben Affleck', 2017)\n",
    "s3 = UG('Lin Manual Miranda', 2018)\n",
    "s4 = Grad('Drew Houston')\n",
    "s5 = TransferStudent('Robert deNiro')\n",
    "\n",
    "studentList = [s1, s2, s3, s4, s5]"
   ]
  },
  {
   "cell_type": "code",
   "execution_count": 166,
   "metadata": {},
   "outputs": [
    {
     "name": "stdout",
     "output_type": "stream",
     "text": [
      "Matt Damon\n"
     ]
    }
   ],
   "source": [
    "print(s1)"
   ]
  },
  {
   "cell_type": "code",
   "execution_count": 167,
   "metadata": {},
   "outputs": [
    {
     "name": "stdout",
     "output_type": "stream",
     "text": [
      "2017\n"
     ]
    }
   ],
   "source": [
    "print(s1.getClass())"
   ]
  },
  {
   "cell_type": "code",
   "execution_count": 168,
   "metadata": {},
   "outputs": [
    {
     "name": "stdout",
     "output_type": "stream",
     "text": [
      "Matt Damon says:  Yo Bro, where is the quiz?\n"
     ]
    }
   ],
   "source": [
    "print(s1.speak('where is the quiz?'))"
   ]
  },
  {
   "cell_type": "code",
   "execution_count": 169,
   "metadata": {},
   "outputs": [
    {
     "name": "stdout",
     "output_type": "stream",
     "text": [
      "Ben Affleck says:  Yo Bro, I have not idea\n"
     ]
    }
   ],
   "source": [
    "print(s2.speak('I have not idea'))"
   ]
  },
  {
   "cell_type": "code",
   "execution_count": 170,
   "metadata": {},
   "outputs": [],
   "source": [
    "class Professor(MITPerson):\n",
    "    def __init__(self, name, department):\n",
    "        MITPerson.__init__(self, name)\n",
    "        self.department = department\n",
    "        \n",
    "    def speak(self, utterance):\n",
    "        # shadows MITPerson speak method\n",
    "        new = 'In course ' + self.department + ' we say '\n",
    "        return MITPerson.speak(self, new + utterance) # note use of MITPerson speak method\n",
    "    \n",
    "    def lecture(self, topic):\n",
    "        return self.speak('it is obvious that ' + topic) # note use of own speak method"
   ]
  },
  {
   "cell_type": "code",
   "execution_count": 171,
   "metadata": {},
   "outputs": [],
   "source": [
    "faculty = Professor('Doctor Arrogant', 'six')"
   ]
  },
  {
   "cell_type": "code",
   "execution_count": 172,
   "metadata": {},
   "outputs": [
    {
     "name": "stdout",
     "output_type": "stream",
     "text": [
      "Bill Gates says: hi there\n",
      "Matt Damon says:  Yo Bro, hi there\n",
      "Doctor Arrogant says: In course six we say hi there\n",
      "Doctor Arrogant says: In course six we say it is obvious that hi there\n"
     ]
    }
   ],
   "source": [
    "# each class has a speak method\n",
    "\n",
    "print(m1.speak('hi there'))\n",
    "print(s1.speak('hi there'))\n",
    "print(faculty.speak('hi there'))\n",
    "print(faculty.lecture('hi there'))"
   ]
  },
  {
   "cell_type": "code",
   "execution_count": 173,
   "metadata": {},
   "outputs": [],
   "source": [
    "# by isolating methods in classes, makes it easier to change behaviors: I can change base behavior\n",
    "# of MITPerson class, which will be inherited by all other subclasses of MITPerson\n",
    "# or can change behavior of a lower class in hierarchy\n"
   ]
  },
  {
   "cell_type": "markdown",
   "metadata": {},
   "source": [
    "### Exercise"
   ]
  },
  {
   "cell_type": "code",
   "execution_count": 174,
   "metadata": {},
   "outputs": [],
   "source": [
    "import random \n",
    "\n",
    "class Hand(object):\n",
    "    def __init__(self, n):\n",
    "        '''\n",
    "        Initialize a Hand.\n",
    "\n",
    "        n: integer, the size of the hand.\n",
    "        '''\n",
    "        assert type(n) == int\n",
    "        self.HAND_SIZE = n\n",
    "        self.VOWELS = 'aeiou'\n",
    "        self.CONSONANTS = 'bcdfghjklmnpqrstvwxyz'\n",
    "\n",
    "        # Deal a new hand\n",
    "        self.dealNewHand()\n",
    "\n",
    "    def dealNewHand(self):\n",
    "        '''\n",
    "        Deals a new hand, and sets the hand attribute to the new hand.\n",
    "        '''\n",
    "        # Set self.hand to a new, empty dictionary\n",
    "        self.hand = {}\n",
    "\n",
    "        # Build the hand\n",
    "        numVowels = self.HAND_SIZE // 3\n",
    "    \n",
    "        for i in range(numVowels):\n",
    "            x = self.VOWELS[random.randrange(0,len(self.VOWELS))]\n",
    "            self.hand[x] = self.hand.get(x, 0) + 1\n",
    "        \n",
    "        for i in range(numVowels, self.HAND_SIZE):    \n",
    "            x = self.CONSONANTS[random.randrange(0,len(self.CONSONANTS))]\n",
    "            self.hand[x] = self.hand.get(x, 0) + 1\n",
    "            \n",
    "    def setDummyHand(self, handString):\n",
    "        '''\n",
    "        Allows you to set a dummy hand. Useful for testing your implementation.\n",
    "\n",
    "        handString: A string of letters you wish to be in the hand. Length of this\n",
    "        string must be equal to self.HAND_SIZE.\n",
    "\n",
    "        This method converts sets the hand attribute to a dictionary\n",
    "        containing the letters of handString.\n",
    "        '''\n",
    "        assert len(handString) == self.HAND_SIZE, \"Length of handString ({0}) must equal length of HAND_SIZE ({1})\".format(len(handString), self.HAND_SIZE)\n",
    "        self.hand = {}\n",
    "        for char in handString:\n",
    "            self.hand[char] = self.hand.get(char, 0) + 1\n",
    "\n",
    "\n",
    "    def calculateLen(self):\n",
    "        '''\n",
    "        Calculate the length of the hand.\n",
    "        '''\n",
    "        ans = 0\n",
    "        for k in self.hand:\n",
    "            ans += self.hand[k]\n",
    "        return ans\n",
    "    \n",
    "    def __str__(self):\n",
    "        '''\n",
    "        Display a string representation of the hand.\n",
    "        '''\n",
    "        output = ''\n",
    "        hand_keys = sorted(self.hand.keys())\n",
    "        for letter in hand_keys:\n",
    "            for j in range(self.hand[letter]):\n",
    "                output += letter\n",
    "        return output\n",
    "\n",
    "    def update(self, word):\n",
    "        \"\"\"\n",
    "        Does not assume that self.hand has all the letters in word.\n",
    "\n",
    "        Updates the hand: if self.hand does have all the letters to make\n",
    "        the word, modifies self.hand by using up the letters in the given word.\n",
    "\n",
    "        Returns True if the word was able to be made with the letter in\n",
    "        the hand; False otherwise.\n",
    "        \n",
    "        word: string\n",
    "        returns: Boolean (if the word was or was not made)\n",
    "        \"\"\"\n",
    "        # Make a copy of the hand, and try to update it\n",
    "        new_hand = self.hand.copy()\n",
    "        for letter in word:\n",
    "            try:\n",
    "                new_hand[letter] -= 1\n",
    "            except KeyError:\n",
    "                # if letter is not in the hand, we cannot make the word from this hand\n",
    "                return False\n",
    "        for letter in new_hand.keys():\n",
    "            # If any of the letter counts of the new hand are less than zero after the\n",
    "            # update, then we cannot make the word from this hand.\n",
    "            if new_hand[letter] < 0:\n",
    "                return False\n",
    "        # If we have gotten to here, we must be able to make the word from this hand.\n",
    "        # Set self.hand to the new, updated hand and return True.\n",
    "        self.hand = new_hand\n",
    "        return True\n",
    "        #raise NotImplementedError()"
   ]
  },
  {
   "cell_type": "code",
   "execution_count": 188,
   "metadata": {},
   "outputs": [
    {
     "name": "stdout",
     "output_type": "stream",
     "text": [
      "dfhiist\n",
      "7\n"
     ]
    }
   ],
   "source": [
    "myHand = Hand(7)\n",
    "print(myHand)\n",
    "print(myHand.calculateLen())"
   ]
  },
  {
   "cell_type": "code",
   "execution_count": 190,
   "metadata": {},
   "outputs": [],
   "source": [
    "myHand_2 = myHand.dealNewHand()\n",
    "myHand_2"
   ]
  },
  {
   "cell_type": "code",
   "execution_count": 181,
   "metadata": {},
   "outputs": [
    {
     "name": "stdout",
     "output_type": "stream",
     "text": [
      "abjowyz\n",
      "7\n"
     ]
    }
   ],
   "source": [
    "myHand = Hand(7)\n",
    "print (myHand)\n",
    "#print (myHand.dealNewHand())\n",
    "#print (myHand.setDummyHand())\n",
    "print (myHand.calculateLen())"
   ]
  },
  {
   "cell_type": "code",
   "execution_count": 187,
   "metadata": {},
   "outputs": [],
   "source": [
    "#lala = myHand.dealNewHand()\n",
    "myHand.setDummyHand('abcdefg')"
   ]
  },
  {
   "cell_type": "code",
   "execution_count": 177,
   "metadata": {},
   "outputs": [
    {
     "name": "stdout",
     "output_type": "stream",
     "text": [
      "aampszz\n",
      "7\n"
     ]
    }
   ],
   "source": [
    "myHand.setDummyHand('aazzmsp')\n",
    "print(myHand)\n",
    "print(myHand.calculateLen())"
   ]
  },
  {
   "cell_type": "code",
   "execution_count": 178,
   "metadata": {},
   "outputs": [
    {
     "ename": "NotImplementedError",
     "evalue": "",
     "output_type": "error",
     "traceback": [
      "\u001b[0;31m---------------------------------------------------------------------------\u001b[0m",
      "\u001b[0;31mNotImplementedError\u001b[0m                       Traceback (most recent call last)",
      "\u001b[0;32m<ipython-input-178-665156bedb57>\u001b[0m in \u001b[0;36m<module>\u001b[0;34m()\u001b[0m\n\u001b[0;32m----> 1\u001b[0;31m \u001b[0mmyHand\u001b[0m\u001b[0;34m.\u001b[0m\u001b[0mupdate\u001b[0m\u001b[0;34m(\u001b[0m\u001b[0;34m'za'\u001b[0m\u001b[0;34m)\u001b[0m\u001b[0;34m\u001b[0m\u001b[0m\n\u001b[0m\u001b[1;32m      2\u001b[0m \u001b[0;32mprint\u001b[0m\u001b[0;34m(\u001b[0m\u001b[0mmyHand\u001b[0m\u001b[0;34m)\u001b[0m\u001b[0;34m\u001b[0m\u001b[0m\n",
      "\u001b[0;32m<ipython-input-174-7e1aa7876a42>\u001b[0m in \u001b[0;36mupdate\u001b[0;34m(self, word)\u001b[0m\n\u001b[1;32m     84\u001b[0m         \"\"\"\n\u001b[1;32m     85\u001b[0m         \u001b[0;31m# Your code here\u001b[0m\u001b[0;34m\u001b[0m\u001b[0;34m\u001b[0m\u001b[0m\n\u001b[0;32m---> 86\u001b[0;31m         \u001b[0;32mraise\u001b[0m \u001b[0mNotImplementedError\u001b[0m\u001b[0;34m(\u001b[0m\u001b[0;34m)\u001b[0m\u001b[0;34m\u001b[0m\u001b[0m\n\u001b[0m",
      "\u001b[0;31mNotImplementedError\u001b[0m: "
     ]
    }
   ],
   "source": [
    "myHand.update('za')\n",
    "print(myHand)"
   ]
  },
  {
   "cell_type": "markdown",
   "metadata": {},
   "source": [
    "## Example: Gradebook"
   ]
  },
  {
   "cell_type": "code",
   "execution_count": 192,
   "metadata": {},
   "outputs": [],
   "source": [
    "class Grades(object):\n",
    "    \"\"\"A mapping from students to a list of grades\"\"\"\n",
    "    def __init__(self):\n",
    "        \"\"\"Create empty grade book\"\"\"\n",
    "        self.students = []   # list of Student objects\n",
    "        self.grades = {}     # maps idNum -> list of grades\n",
    "        self.isSorted = True # true if self.students is sorted\n",
    "\n",
    "    def addStudent(self, student):\n",
    "        \"\"\"Assumes: student is of type Student\n",
    "           Add student to the grade book\"\"\"\n",
    "        if student in self.students:\n",
    "            raise ValueError('Duplicate student')\n",
    "        self.students.append(student)\n",
    "        self.grades[student.getIdNum()] = [] # creates a spot in the dictionary and I add a list into it\n",
    "        self.isSorted = False\n",
    "\n",
    "    def addGrade(self, student, grade):\n",
    "        \"\"\"Assumes: grade is a float\n",
    "           Add grade to the list of grades for student\"\"\"\n",
    "        try:\n",
    "            self.grades[student.getIdNum()].append(grade) # using this because it is a dictionary\n",
    "        except KeyError:\n",
    "            raise ValueError('Student not in grade book') # when the student in not in the dictionary\n",
    "\n",
    "    def getGrades(self, student):\n",
    "        \"\"\"Return a list of grades for student\"\"\"\n",
    "        try:    # return copy of student's grades\n",
    "            return self.grades[student.getIdNum()][:] # grades is a dictionary\n",
    "        except KeyError:\n",
    "            raise ValueError('Student not in grade book') # when student not in dictionary\n",
    "\n",
    "\n",
    "    def allStudents(self):\n",
    "        \"\"\"Return a list of the students in the grade book\"\"\"\n",
    "        if not self.isSorted:\n",
    "            self.students.sort()\n",
    "            self.isSorted = True\n",
    "        return self.students[:] \n",
    "        # return copy of list of students\n",
    "\n",
    "\n",
    "\n",
    "def gradeReport(course):\n",
    "    \"\"\"Assumes: course if of type grades\"\"\"\n",
    "    report = []\n",
    "    \n",
    "    for s in course.allStudents(): # taking advantage of allStudents() method\n",
    "        tot = 0.0\n",
    "        numGrades = 0\n",
    "        \n",
    "        for g in course.getGrades(s): # for every grade associated to each student\n",
    "            tot += g\n",
    "            numGrades += 1\n",
    "        \n",
    "        try:\n",
    "            average = tot/numGrades\n",
    "            report.append(str(s) + '\\'s mean grade is '+ str(average))\n",
    "            \n",
    "        except ZeroDivisionError:\n",
    "            report.append(str(s) + ' has no grades')\n",
    "   \n",
    "    return '\\n'.join(report)"
   ]
  },
  {
   "cell_type": "code",
   "execution_count": 193,
   "metadata": {},
   "outputs": [],
   "source": [
    "ug1 = UG('Matt Damon', 2018)\n",
    "ug2 = UG('Ben Affleck', 2019)\n",
    "ug3 = UG('Drew Houston', 2017)\n",
    "ug4 = UG('Mark Zuckerberg', 2017)\n",
    "g1 = Grad('Bill Gates')\n",
    "g2 = Grad('Steve Wozniak')"
   ]
  },
  {
   "cell_type": "code",
   "execution_count": 195,
   "metadata": {},
   "outputs": [],
   "source": [
    "six00 = Grades() # creates a grade book\n",
    "six00.addStudent(g1)\n",
    "six00.addStudent(ug2)\n",
    "six00.addStudent(ug1)\n",
    "six00.addStudent(g2)\n",
    "six00.addStudent(ug4)\n",
    "six00.addStudent(ug3)"
   ]
  },
  {
   "cell_type": "code",
   "execution_count": 196,
   "metadata": {},
   "outputs": [],
   "source": [
    "six00.addGrade(g1, 100)\n",
    "six00.addGrade(g2, 25)\n",
    "six00.addGrade(ug1, 95)\n",
    "six00.addGrade(ug2, 85)\n",
    "six00.addGrade(ug3, 75)"
   ]
  },
  {
   "cell_type": "code",
   "execution_count": 197,
   "metadata": {},
   "outputs": [
    {
     "name": "stdout",
     "output_type": "stream",
     "text": [
      "()\n",
      "Matt Damon's mean grade is 95.0\n",
      "Ben Affleck's mean grade is 85.0\n",
      "Drew Houston's mean grade is 75.0\n",
      "Mark Zuckerberg has no grades\n",
      "Bill Gates's mean grade is 100.0\n",
      "Steve Wozniak's mean grade is 25.0\n"
     ]
    }
   ],
   "source": [
    "print()\n",
    "\n",
    "print(gradeReport(six00))"
   ]
  },
  {
   "cell_type": "code",
   "execution_count": 198,
   "metadata": {},
   "outputs": [
    {
     "name": "stdout",
     "output_type": "stream",
     "text": [
      "()\n",
      "Matt Damon's mean grade is 87.5\n",
      "Ben Affleck's mean grade is 80.0\n",
      "Drew Houston's mean grade is 75.0\n",
      "Mark Zuckerberg has no grades\n",
      "Bill Gates's mean grade is 95.0\n",
      "Steve Wozniak's mean grade is 35.0\n"
     ]
    }
   ],
   "source": [
    "six00.addGrade(g1, 90)\n",
    "six00.addGrade(g2, 45)\n",
    "six00.addGrade(ug1, 80)\n",
    "six00.addGrade(ug2, 75)\n",
    "\n",
    "print()\n",
    "\n",
    "print(gradeReport(six00))\n",
    "\n"
   ]
  },
  {
   "cell_type": "code",
   "execution_count": 200,
   "metadata": {},
   "outputs": [
    {
     "name": "stdout",
     "output_type": "stream",
     "text": [
      "Matt Damon\n",
      "Ben Affleck\n",
      "Drew Houston\n",
      "Mark Zuckerberg\n",
      "Bill Gates\n",
      "Steve Wozniak\n"
     ]
    }
   ],
   "source": [
    "for s in six00.allStudents():\n",
    "    print (s)"
   ]
  },
  {
   "cell_type": "markdown",
   "metadata": {},
   "source": [
    "### Generators"
   ]
  },
  {
   "cell_type": "code",
   "execution_count": 218,
   "metadata": {},
   "outputs": [],
   "source": [
    "def genTest():\n",
    "    yield 1\n",
    "    yield 2"
   ]
  },
  {
   "cell_type": "code",
   "execution_count": 219,
   "metadata": {},
   "outputs": [],
   "source": [
    "foo = genTest()"
   ]
  },
  {
   "cell_type": "code",
   "execution_count": 220,
   "metadata": {},
   "outputs": [
    {
     "data": {
      "text/plain": [
       "1"
      ]
     },
     "execution_count": 220,
     "metadata": {},
     "output_type": "execute_result"
    }
   ],
   "source": [
    "foo.next()"
   ]
  },
  {
   "cell_type": "code",
   "execution_count": 221,
   "metadata": {},
   "outputs": [
    {
     "name": "stdout",
     "output_type": "stream",
     "text": [
      "1\n",
      "2\n"
     ]
    }
   ],
   "source": [
    "for n in genTest():\n",
    "    print (n)"
   ]
  },
  {
   "cell_type": "code",
   "execution_count": 209,
   "metadata": {},
   "outputs": [],
   "source": [
    "# they have a next() method that is built-in that starts/resumes execution of the procedure\n",
    "\n",
    "def genFib():\n",
    "    fibn_1 = 1  # fib(n-1)\n",
    "    fibn_2 = 0  # fib(n-2)\n",
    "    while True:\n",
    "        # fib(n) = fib(n-1) + fib(n-2)\n",
    "        next = fibn_1 + fibn_2\n",
    "        yield next # will hold execution until I ask to resume\n",
    "        fibn_2 = fibn_1\n",
    "        fibn_1 = next"
   ]
  },
  {
   "cell_type": "code",
   "execution_count": 210,
   "metadata": {},
   "outputs": [],
   "source": [
    "fib = genFib()"
   ]
  },
  {
   "cell_type": "code",
   "execution_count": 211,
   "metadata": {},
   "outputs": [
    {
     "name": "stdout",
     "output_type": "stream",
     "text": [
      "<generator object genFib at 0x10462cb40>\n"
     ]
    }
   ],
   "source": [
    "print(fib)"
   ]
  },
  {
   "cell_type": "code",
   "execution_count": 213,
   "metadata": {},
   "outputs": [
    {
     "data": {
      "text/plain": [
       "1"
      ]
     },
     "execution_count": 213,
     "metadata": {},
     "output_type": "execute_result"
    }
   ],
   "source": [
    "fib.next()"
   ]
  },
  {
   "cell_type": "code",
   "execution_count": 214,
   "metadata": {},
   "outputs": [
    {
     "data": {
      "text/plain": [
       "2"
      ]
     },
     "execution_count": 214,
     "metadata": {},
     "output_type": "execute_result"
    }
   ],
   "source": [
    "fib.next()"
   ]
  },
  {
   "cell_type": "code",
   "execution_count": 215,
   "metadata": {},
   "outputs": [
    {
     "data": {
      "text/plain": [
       "3"
      ]
     },
     "execution_count": 215,
     "metadata": {},
     "output_type": "execute_result"
    }
   ],
   "source": [
    "fib.next()"
   ]
  },
  {
   "cell_type": "code",
   "execution_count": 216,
   "metadata": {},
   "outputs": [
    {
     "data": {
      "text/plain": [
       "5"
      ]
     },
     "execution_count": 216,
     "metadata": {},
     "output_type": "execute_result"
    }
   ],
   "source": [
    "fib.next()"
   ]
  },
  {
   "cell_type": "code",
   "execution_count": 217,
   "metadata": {},
   "outputs": [
    {
     "data": {
      "text/plain": [
       "8"
      ]
     },
     "execution_count": 217,
     "metadata": {},
     "output_type": "execute_result"
    }
   ],
   "source": [
    "fib.next()"
   ]
  },
  {
   "cell_type": "code",
   "execution_count": 233,
   "metadata": {},
   "outputs": [],
   "source": [
    "# they have a next() method that is built-in that starts/resumes execution of the procedure\n",
    "\n",
    "def genPrimes():\n",
    "    primes = []  # primes generated so far\n",
    "    last = 1     # last number tried\n",
    "    while True:\n",
    "        last += 1\n",
    "        for p in primes:\n",
    "            if last % p == 0:\n",
    "                break\n",
    "        else:\n",
    "            primes.append(last)\n",
    "            yield last"
   ]
  },
  {
   "cell_type": "code",
   "execution_count": 234,
   "metadata": {},
   "outputs": [],
   "source": [
    "primes = genPrimes()"
   ]
  },
  {
   "cell_type": "code",
   "execution_count": 235,
   "metadata": {},
   "outputs": [
    {
     "data": {
      "text/plain": [
       "2"
      ]
     },
     "execution_count": 235,
     "metadata": {},
     "output_type": "execute_result"
    }
   ],
   "source": [
    "primes.next()"
   ]
  },
  {
   "cell_type": "code",
   "execution_count": 236,
   "metadata": {},
   "outputs": [
    {
     "data": {
      "text/plain": [
       "3"
      ]
     },
     "execution_count": 236,
     "metadata": {},
     "output_type": "execute_result"
    }
   ],
   "source": [
    "primes.next()"
   ]
  },
  {
   "cell_type": "code",
   "execution_count": 237,
   "metadata": {},
   "outputs": [
    {
     "data": {
      "text/plain": [
       "5"
      ]
     },
     "execution_count": 237,
     "metadata": {},
     "output_type": "execute_result"
    }
   ],
   "source": [
    "primes.next()"
   ]
  },
  {
   "cell_type": "code",
   "execution_count": 238,
   "metadata": {},
   "outputs": [
    {
     "data": {
      "text/plain": [
       "7"
      ]
     },
     "execution_count": 238,
     "metadata": {},
     "output_type": "execute_result"
    }
   ],
   "source": [
    "primes.next()"
   ]
  },
  {
   "cell_type": "code",
   "execution_count": 239,
   "metadata": {},
   "outputs": [
    {
     "data": {
      "text/plain": [
       "11"
      ]
     },
     "execution_count": 239,
     "metadata": {},
     "output_type": "execute_result"
    }
   ],
   "source": [
    "primes.next()"
   ]
  },
  {
   "cell_type": "code",
   "execution_count": null,
   "metadata": {},
   "outputs": [],
   "source": []
  }
 ],
 "metadata": {
  "kernelspec": {
   "display_name": "p36workshop",
   "language": "python",
   "name": "p36workshop"
  },
  "language_info": {
   "codemirror_mode": {
    "name": "ipython",
    "version": 2
   },
   "file_extension": ".py",
   "mimetype": "text/x-python",
   "name": "python",
   "nbconvert_exporter": "python",
   "pygments_lexer": "ipython2",
   "version": "2.7.3"
  }
 },
 "nbformat": 4,
 "nbformat_minor": 2
}
